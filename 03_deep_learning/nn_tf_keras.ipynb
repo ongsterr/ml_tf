{
 "metadata": {
  "language_info": {
   "codemirror_mode": {
    "name": "ipython",
    "version": 3
   },
   "file_extension": ".py",
   "mimetype": "text/x-python",
   "name": "python",
   "nbconvert_exporter": "python",
   "pygments_lexer": "ipython3",
   "version": "3.8.6-final"
  },
  "orig_nbformat": 2,
  "kernelspec": {
   "name": "python3",
   "display_name": "Python 3"
  }
 },
 "nbformat": 4,
 "nbformat_minor": 2,
 "cells": [
  {
   "source": [
    "# Neural Networks with TensorFlow and Keras\n",
    "\n",
    "Deep neural networks tend to be massive with dozens or even hundreds of layers, that's where the term \"deep\" comes from. You can build one of these deep networks using only weight matrices as we did in the previous notebook, but in general it's very cumbersome and difficult to implement. TensorFlow has a nice API called **Keras** that provides a nice way to efficiently build large neural networks."
   ],
   "cell_type": "markdown",
   "metadata": {}
  },
  {
   "source": [
    "## Import Resources"
   ],
   "cell_type": "markdown",
   "metadata": {}
  },
  {
   "cell_type": "code",
   "execution_count": 1,
   "metadata": {},
   "outputs": [],
   "source": [
    "import warnings\n",
    "warnings.filterwarnings('ignore')"
   ]
  },
  {
   "cell_type": "code",
   "execution_count": 2,
   "metadata": {},
   "outputs": [],
   "source": [
    "%matplotlib inline\n",
    "%config InlineBackend.figure_format = 'retina'\n",
    "\n",
    "import numpy as np\n",
    "import matplotlib.pyplot as plt\n",
    "\n",
    "import tensorflow as tf\n",
    "import tensorflow_datasets as tfds\n",
    "tfds.disable_progress_bar()"
   ]
  },
  {
   "cell_type": "code",
   "execution_count": 3,
   "metadata": {},
   "outputs": [],
   "source": [
    "import logging\n",
    "logger = tf.get_logger()\n",
    "logger.setLevel(logging.ERROR)"
   ]
  },
  {
   "cell_type": "code",
   "execution_count": 4,
   "metadata": {},
   "outputs": [
    {
     "output_type": "stream",
     "name": "stdout",
     "text": "Using:\n\t• TensorFlow version:  2.3.1\n\t• tf.keras version:  2.4.0\n\t• GPU device not found. Running on CPU.\n"
    }
   ],
   "source": [
    "print('Using:')\n",
    "print('\\t\\u2022 TensorFlow version: ', tf.__version__)\n",
    "print('\\t\\u2022 tf.keras version: ', tf.keras.__version__)\n",
    "print('\\t\\u2022 Running on GPU' if tf.test.is_gpu_available() else '\\t\\u2022 GPU device not found. Running on CPU.')"
   ]
  },
  {
   "source": [
    "## Load the Dataset\n",
    "\n",
    "Now we're going to build a larger network that can solve a (formerly) difficult problem, identifying text in an image. Here we'll use the MNIST dataset which consists of greyscale handwritten digits. Each image is 28x28 pixels, you can see a sample below\n",
    "\n",
    "<center><img src='assets/mnist.png'></center>\n",
    "\n",
    "Our goal is to build a neural network that can take one of these images and predict the digit in the image.\n",
    "\n",
    "First up, we need to get the dataset we are going to use to train and test our Neural Network. We will get our dataset using the [`tensorflow_datasets`](https://www.tensorflow.org/datasets) package. TensorFlow Datasets is a repository of datasets ready to use with TensorFlow. TensorFlow Datasets has a wide variety of datasets to train your machine learning models for many different tasks, ranging from text to video. For a full list of the datasets available in TensorFlow Datasets check out the [TensorFlow Datasets Catalog](https://www.tensorflow.org/datasets/catalog/overview#all_datasets).\n",
    "\n",
    "\n",
    "The code below will load the MNIST dataset."
   ],
   "cell_type": "markdown",
   "metadata": {}
  },
  {
   "cell_type": "code",
   "execution_count": 5,
   "metadata": {},
   "outputs": [],
   "source": [
    "# load training data\n",
    "training_set, dataset_info = tfds.load('mnist', split = 'train', as_supervised=True, with_info=True)"
   ]
  },
  {
   "cell_type": "markdown",
   "metadata": {},
   "source": [
    "## Inspect Dataset\n",
    "\n",
    "We have loaded the training data into `training_set` and loaded dataset information into `dataset_info`.  Let's get the total number of classes and the total number of images in our training set from `dataset_info`."
   ]
  },
  {
   "cell_type": "code",
   "execution_count": 6,
   "metadata": {},
   "outputs": [
    {
     "output_type": "stream",
     "name": "stdout",
     "text": "There are 10 classes in our dataset\nThere are 60,000 images in the training set\n"
    }
   ],
   "source": [
    "num_classes = dataset_info.features['label'].num_classes\n",
    "print('There are {:,} classes in our dataset'.format(num_classes))\n",
    "\n",
    "num_training_examples = dataset_info.splits['train'].num_examples\n",
    "print('There are {:,} images in the training set'.format(num_training_examples))\n",
    ""
   ]
  },
  {
   "cell_type": "markdown",
   "metadata": {},
   "source": [
    "We can use `training_set` as an iterator so, we can use the following statement to loop through the dataset:\n",
    "\n",
    "```python\n",
    "for image, label in training_set:\n",
    "    ## do things with images and labels\n",
    "```\n",
    "\n",
    "Let's print the shape and dtype of our images and labels. We'll use the `.take(1)` method to only choose one element from our dataset. Since our dataset consists of images, the `.take(1)` method will choose only one image. "
   ]
  },
  {
   "cell_type": "code",
   "execution_count": 7,
   "metadata": {},
   "outputs": [
    {
     "output_type": "stream",
     "name": "stdout",
     "text": "The images in the training set have:\n• dtype: <dtype: 'uint8'>\n• shape: (28, 28, 1)\nThe labels in the training set have:\n• dtype: <dtype: 'int64'>\n• shape: ()\n"
    }
   ],
   "source": [
    "for image, label in training_set.take(1):\n",
    "    print('The images in the training set have:')\n",
    "    print('\\u2022 dtype:', image.dtype)\n",
    "    print('\\u2022 shape:', image.shape)\n",
    "\n",
    "    print('The labels in the training set have:')\n",
    "    print('\\u2022 dtype:', label.dtype)\n",
    "    print('\\u2022 shape:', label.shape)"
   ]
  },
  {
   "cell_type": "markdown",
   "metadata": {},
   "source": [
    "The images in our dataset are tensors of `shape = (28, 28, 1)` and `dtype = uint8`. `unit8` represents an 8-bit unsigned integer and can hold integers in the range 0 to 255. On the other hand, the labels of our images are tensors of `dtype = int64`, which means they are 64-bit signed integers. Now let's see what an image from our dataset looks like. In order to plot our images, we will have to convert them from TensorFlow tensors to NumPy ndarrays first, by using the `.numpy()` method. Since the images have `shape = (28, 28, 1)` we will use the `.squeeze()` method to reshape the images to have `shape = (28, 28)`. The `.squeeze()` method removes single-dimensional entries from the shape of an ndarray."
   ]
  },
  {
   "cell_type": "code",
   "execution_count": 8,
   "metadata": {},
   "outputs": [
    {
     "output_type": "display_data",
     "data": {
      "text/plain": "<Figure size 432x288 with 2 Axes>",
      "image/png": "[encoded data removed]"
     },
     "metadata": {
      "image/png": {
       "width": 305,
       "height": 248
      },
      "needs_background": "light"
     }
    },
    {
     "output_type": "stream",
     "name": "stdout",
     "text": "The label of the image is 4\n"
    }
   ],
   "source": [
    "for image, label in training_set.take(1):\n",
    "    image = image.numpy().squeeze() # 28 x 28 x 1 => 28 x 28\n",
    "    label = label.numpy()\n",
    "\n",
    "# plot the image\n",
    "plt.imshow(image, cmap=plt.cm.binary) # cmap = color map (binary for grayscale)\n",
    "plt.colorbar()\n",
    "plt.show()\n",
    "\n",
    "print('The label of the image is', label)"
   ]
  },
  {
   "cell_type": "markdown",
   "metadata": {},
   "source": [
    "## Create Pipeline\n",
    "\n",
    "As we can see, the pixel values of our images are in the range `[0, 255]`. We will now normalize the images and create a pipeline with our training set so that it can be fed into our neural network. In order to normalize the images we are going to divide the pixel values by 255. We will therefore, first change the `dtype` of our image from `uint8` to `float32`  (32-bit single-precision floating-point numbers) using the `tf.cast` function."
   ]
  },
  {
   "cell_type": "code",
   "execution_count": 9,
   "metadata": {},
   "outputs": [],
   "source": [
    "def normalize(image, label):\n",
    "    image = tf.cast(image, tf.float32)\n",
    "    image /= 255\n",
    "    return image, label\n",
    "\n",
    "batch_size = 64\n",
    "\n",
    "training_batch = training_set.cache().shuffle(num_training_examples // 4).batch(batch_size).map(normalize).prefetch(1)"
   ]
  },
  {
   "cell_type": "markdown",
   "metadata": {},
   "source": [
    "You'll notice we created the pipeline with a batch size of `64`, and that we are shuffling our dataset. The batch size is the number of images we get in one iteration and are passed through our network, often called a *batch*. The `shuffle` transformation randomly shuffles the elements of our dataset before being fed to our network.\n",
    "\n",
    "Although many of these transformations are commutative, the ordering of certain transformations has performance implications. For more information on these transformations and their impact on performance make sure to check the following links:\n",
    "\n",
    "* [Pipeline Performance](https://www.tensorflow.org/beta/guide/data_performance)\n",
    "\n",
    "\n",
    "* [Transformations](https://www.tensorflow.org/api_docs/python/tf/data/Dataset)\n",
    "\n",
    "Now that we have our `training_batches` let's inspect them:"
   ]
  },
  {
   "cell_type": "code",
   "execution_count": 10,
   "metadata": {},
   "outputs": [
    {
     "output_type": "stream",
     "name": "stdout",
     "text": "Th images in each bath have:\n• dtype: <dtype: 'float32'>\n• shape: (64, 28, 28, 1)\n\nThere are a total of 64 image labels in this batch\n[8 0 3 4 0 6 9 3 9 8 3 2 3 4 3 5 8 3 2 2 2 6 2 7 3 7 2 2 6 2 4 0 1 7 2 7 6\n 7 9 5 5 8 6 8 9 4 3 6 9 2 9 9 3 6 0 7 4 2 3 1 5 3 2 6]\n"
    }
   ],
   "source": [
    "for image_batch, label_batch in training_batch.take(1):\n",
    "    print('Th images in each bath have:')\n",
    "    print('\\u2022 dtype:', image_batch.dtype)\n",
    "    print('\\u2022 shape:', image_batch.shape)\n",
    "\n",
    "    print('\\nThere are a total of {} image labels in this batch'.format(label_batch.numpy().size))\n",
    "    print(label_batch.numpy())"
   ]
  },
  {
   "cell_type": "code",
   "execution_count": 11,
   "metadata": {},
   "outputs": [
    {
     "output_type": "display_data",
     "data": {
      "text/plain": "<Figure size 432x288 with 2 Axes>",
      "image/png": "[encoded data removed]"
     },
     "metadata": {
      "image/png": {
       "width": 302,
       "height": 252
      },
      "needs_background": "light"
     }
    },
    {
     "output_type": "stream",
     "name": "stdout",
     "text": "The label of the image is 9\n"
    }
   ],
   "source": [
    "# take a single batch of images, and remove the color dimension by squeezing it\n",
    "for image_batch, label_batch in training_batch.take(1):\n",
    "    images = image_batch.numpy().squeeze()\n",
    "    labels = label_batch.numpy()\n",
    "\n",
    "# plot the image\n",
    "plt.imshow(images[5], cmap=plt.cm.binary)\n",
    "plt.colorbar()\n",
    "plt.show()\n",
    "\n",
    "print('The label of the image is', labels[5])"
   ]
  },
  {
   "cell_type": "markdown",
   "metadata": {},
   "source": [
    "## Build a Simple Neural Network\n",
    "\n",
    "First, let's try to build a simple network for this dataset using weight matrices and matrix multiplications, just like we did in the previous notebook. Then, we'll see how to do it using TensorFlow and Keras, which provides a much more convenient and powerful method for defining network architectures.\n",
    "\n",
    "The networks you've seen so far are called *fully-connected* or *dense* networks. Each unit in one layer is connected to each unit in the next layer. In fully-connected networks, the input to each layer must be a one-dimensional vector (which can be stacked into a 2D tensor as a batch of multiple examples). However, our images are 28 $\\times$ 28 2D tensors, so we need to convert them into 1D vectors. Thinking about sizes, we need to convert the batch of images with shape `(64, 28, 28, 1)` to a have a shape of `(64, 784)`, 784 is 28 times 28. This is typically called *flattening*, we flattened the 2D images into 1D vectors.\n",
    "\n",
    "In the previous notebook, you built a network with one output unit. Here we need 10 output units, one for each digit. We want our network to predict the digit shown in an image, so what we'll do, is calculate the probabilities that the image is of any one digit or class. This ends up being a discrete probability distribution over the classes (digits) that tells us the most likely class for the image. That means we need 10 output units for the 10 classes (digits). We'll see how to convert the network output into a probability distribution next."
   ]
  },
  {
   "cell_type": "code",
   "execution_count": 12,
   "metadata": {},
   "outputs": [
    {
     "output_type": "stream",
     "name": "stdout",
     "text": "The inputs have shape: (64, 784)\nThe output has shape: (64, 10)\n"
    }
   ],
   "source": [
    "def sigmoid_activation(x):\n",
    "    return 1 / (1 + tf.exp(-x))\n",
    "\n",
    "features = tf.reshape(images, [images.shape[0], -1]) # -1 is a special value used to flatten the array\n",
    "\n",
    "print('The inputs have shape:', features.shape)\n",
    "\n",
    "n_inputs = features.shape[1]\n",
    "n_hidden = 256\n",
    "n_output = 10\n",
    "\n",
    "input_weights = tf.random.normal([n_inputs, n_hidden])\n",
    "hidden_weights = tf.random.normal([n_hidden, n_output])\n",
    "\n",
    "y_hidden = sigmoid_activation(tf.matmul(features, input_weights))\n",
    "y_output = sigmoid_activation(tf.matmul(y_hidden, hidden_weights))\n",
    "\n",
    "print('The output has shape:', y_output.shape)\n",
    "\n",
    ""
   ]
  },
  {
   "cell_type": "markdown",
   "metadata": {},
   "source": [
    "Now we have 10 outputs for our network. We want to pass in an image to our network and get out a probability distribution over the classes that tells us the most likely class(es) the image belongs to. Something that looks like this:\n",
    "\n",
    "<img src='assets/image_distribution.png' width=500px>\n",
    "\n",
    "Here we see that the probability for each class is roughly the same. This is representing an untrained network, it hasn't seen any data yet so it just returns a uniform distribution with equal probabilities for each class.\n",
    "\n",
    "To calculate this probability distribution, we often use the [**softmax** function](https://en.wikipedia.org/wiki/Softmax_function). Mathematically this looks like\n",
    "\n",
    "$$\n",
    "\\Large \\sigma(x_i) = \\cfrac{e^{x_i}}{\\sum_k^K{e^{x_k}}}\n",
    "$$\n",
    "\n",
    "What this does is squish each input $x_i$ between 0 and 1 and normalizes the values to give you a proper probability distribution where the probabilities sum up to one.\n",
    "\n",
    "> **Exercise:** Implement a function `softmax` that performs the softmax calculation and returns probability distributions for each example in the batch. Note that you'll need to pay attention to the shapes when doing this. If you have a tensor `a` with shape `(64, 10)` and a tensor `b` with shape `(64,)`, doing `a/b` will give you an error because TensorFlow will try to do the division across the columns (called broadcasting) but you'll get a size mismatch. The way to think about this is the following: for each of the 64 examples, you only want to divide by one value, the sum in the denominator. So you need `b` to have a shape of `(64, 1)`. This way TensorFlow will divide the 10 values in each row of `a` by the one value in each row of `b`. Pay attention to how you take the sum as well. You'll need to define the `axis` keyword in `tf.reduce_sum()`. Setting `axis=0` takes the sum across the rows while `axis=1` takes the sum across the columns. You will also need to use the `keepdims` keyword in `tf.reduce_sum()` to make sure the output tensor has the correct shape `(64,1)`."
   ]
  },
  {
   "cell_type": "code",
   "execution_count": 13,
   "metadata": {},
   "outputs": [
    {
     "output_type": "stream",
     "name": "stdout",
     "text": "The probabilities have shape: (64, 10)\nSum of probabilities for Image 1: 1.0\nSum of probabilities for Image 2: 1.0\nSum of probabilities for Image 3: 1.0\nSum of probabilities for Image 4: 1.0\nSum of probabilities for Image 5: 1.0\nSum of probabilities for Image 6: 1.0\nSum of probabilities for Image 7: 1.0\nSum of probabilities for Image 8: 1.0\nSum of probabilities for Image 9: 1.0\nSum of probabilities for Image 10: 1.0\nSum of probabilities for Image 11: 1.0\nSum of probabilities for Image 12: 1.0\nSum of probabilities for Image 13: 1.0\nSum of probabilities for Image 14: 1.0\nSum of probabilities for Image 15: 1.0\nSum of probabilities for Image 16: 1.0\nSum of probabilities for Image 17: 1.0\nSum of probabilities for Image 18: 1.0\nSum of probabilities for Image 19: 1.0\nSum of probabilities for Image 20: 1.0\nSum of probabilities for Image 21: 1.0\nSum of probabilities for Image 22: 1.0\nSum of probabilities for Image 23: 1.0\nSum of probabilities for Image 24: 1.0\nSum of probabilities for Image 25: 1.0\nSum of probabilities for Image 26: 1.0\nSum of probabilities for Image 27: 1.0\nSum of probabilities for Image 28: 1.0\nSum of probabilities for Image 29: 1.0\nSum of probabilities for Image 30: 1.0\nSum of probabilities for Image 31: 1.0\nSum of probabilities for Image 32: 1.0\nSum of probabilities for Image 33: 1.0\nSum of probabilities for Image 34: 1.0\nSum of probabilities for Image 35: 1.0\nSum of probabilities for Image 36: 1.0\nSum of probabilities for Image 37: 1.0\nSum of probabilities for Image 38: 1.0\nSum of probabilities for Image 39: 1.0\nSum of probabilities for Image 40: 1.0\nSum of probabilities for Image 41: 1.0\nSum of probabilities for Image 42: 1.0\nSum of probabilities for Image 43: 1.0\nSum of probabilities for Image 44: 1.0\nSum of probabilities for Image 45: 1.0\nSum of probabilities for Image 46: 1.0\nSum of probabilities for Image 47: 1.0\nSum of probabilities for Image 48: 1.0\nSum of probabilities for Image 49: 1.0\nSum of probabilities for Image 50: 1.0\nSum of probabilities for Image 51: 1.0\nSum of probabilities for Image 52: 1.0\nSum of probabilities for Image 53: 1.0\nSum of probabilities for Image 54: 1.0\nSum of probabilities for Image 55: 1.0\nSum of probabilities for Image 56: 1.0\nSum of probabilities for Image 57: 1.0\nSum of probabilities for Image 58: 1.0\nSum of probabilities for Image 59: 1.0\nSum of probabilities for Image 60: 1.0\nSum of probabilities for Image 61: 1.0\nSum of probabilities for Image 62: 1.0\nSum of probabilities for Image 63: 1.0\nSum of probabilities for Image 64: 1.0\n"
    }
   ],
   "source": [
    "def softmax(y):\n",
    "    return tf.exp(y) / tf.reduce_sum(tf.exp(y), axis=1, keepdims=True)\n",
    "\n",
    "# apply softmax to output\n",
    "probabilities = softmax(y_output)\n",
    "\n",
    "print('The probabilities have shape:', probabilities.shape)\n",
    "\n",
    "sum_all_prob = tf.reduce_sum(probabilities, axis=1).numpy()\n",
    "\n",
    "for i, prob_sum in enumerate(sum_all_prob):\n",
    "    print('Sum of probabilities for Image {}: {:.1f}'.format(i+1, prob_sum))\n",
    ""
   ]
  },
  {
   "cell_type": "markdown",
   "metadata": {},
   "source": [
    "## Building Neural Networks with TensorFlow and Keras\n",
    "\n",
    "Keras is a high-level API to build and train neural networks. `tf.keras` is TensorFlow's implementation of the Keras API. In Keras, deep learning models are constructed by connecting configurable building blocks called **layers**. The most common type of model is a stack of layers called a **Sequential** model. The model is called sequential because it allows a tensor to be passed sequentially through the operations in each layer. In TensorFlow, the sequential model is implemented with `tf.keras.Sequential`. \n",
    "\n",
    "In the cell below, we will use a Keras sequential model to build the same fully-connected neural network that we built in the previous section. Our sequential model will have three layers:\n",
    "\n",
    "* **Input Layer:** `tf.keras.layers.Flatten` — This layer flattens the images by transforming a 2d-array of 28 $\\times$ 28 pixels, to a 1d-array of 784 pixels (28 $\\times$ 28 = 784). The first layer in a Sequential model needs to know the shape of the input tensors to the model. Since, this is our first layer, we need to specify the shape of our input tensors using the `input_shape` argument. The `input_shape` is specified using a tuple that contains the size of our images and the number of color channels. It is important to note that we don't have to include the batch size in the tuple. The tuple can have integers or `None` entries, where `None` entries indicate that any positive integer may be expected.\n",
    "\n",
    "* **Hidden Layer:** `tf.keras.layers.Dense` — A fully-connected (also known as densely connected) layer. For this layer we need to specify the number of neurons (or nodes) we want to use and the activation function. Note that we don't have to specify the shape of the input tensor to this layer, since Keras performs automatic shape inference for all layers except for the first layer. In this particular case, we are going to use `256` neurons with a `sigmoid` activation fucntion. \n",
    "\n",
    "* **Output Layer:** `tf.keras.layers.Dense` — A fully-connected layer with 10 neurons and a *softmax* activation function. The output values will represent the probability that the image is a particular digit. The sum of all the 10 nodes values is 1."
   ]
  },
  {
   "cell_type": "code",
   "execution_count": 14,
   "metadata": {},
   "outputs": [
    {
     "output_type": "stream",
     "name": "stdout",
     "text": "Model: \"sequential\"\n_________________________________________________________________\nLayer (type)                 Output Shape              Param #   \n=================================================================\ninput (Flatten)              (None, 784)               0         \n_________________________________________________________________\nh1 (Dense)                   (None, 256)               200960    \n_________________________________________________________________\noutput (Dense)               (None, 10)                2570      \n=================================================================\nTotal params: 203,530\nTrainable params: 203,530\nNon-trainable params: 0\n_________________________________________________________________\n"
    }
   ],
   "source": [
    "# model = tf.keras.Sequential()\n",
    "# model.add(tf.keras.layers.Flatten(input_shape=(28,28,1)))\n",
    "# model.add(tf.keras.layers.Dense(n_hidden, activation='sigmoid'))\n",
    "# model.add(tf.keras.layers.Dense(n_output, activation='softmax'))\n",
    "\n",
    "model = tf.keras.Sequential([\n",
    "        tf.keras.layers.Flatten(input_shape = (28,28,1), name='input'),\n",
    "        tf.keras.layers.Dense(256, activation = 'sigmoid', name='h1'),\n",
    "        tf.keras.layers.Dense(10, activation = 'softmax', name='output')\n",
    "])\n",
    "\n",
    "model.summary()"
   ]
  },
  {
   "cell_type": "markdown",
   "metadata": {},
   "source": [
    "### Your Turn to Build a Neural Network\n",
    "\n",
    "<img src=\"assets/mlp_mnist.png\" width=600px>\n",
    "\n",
    "> **Exercise:** Create a network with 784 input units, a hidden layer with 128 units and a ReLU activation, then a hidden layer with 64 units and a ReLU activation, and finally an output layer with 10 units and a softmax activation function. You can use a ReLU activation function by setting `activation = 'relu'`."
   ]
  },
  {
   "cell_type": "code",
   "execution_count": 15,
   "metadata": {},
   "outputs": [
    {
     "output_type": "stream",
     "name": "stdout",
     "text": "Model: \"my_model\"\n_________________________________________________________________\nLayer (type)                 Output Shape              Param #   \n=================================================================\ninput (Flatten)              (None, 784)               0         \n_________________________________________________________________\nh1 (Dense)                   (None, 128)               100480    \n_________________________________________________________________\nh2 (Dense)                   (None, 64)                8256      \n_________________________________________________________________\noutput (Dense)               (None, 10)                650       \n=================================================================\nTotal params: 109,386\nTrainable params: 109,386\nNon-trainable params: 0\n_________________________________________________________________\n"
    }
   ],
   "source": [
    "my_model = tf.keras.Sequential([\n",
    "    tf.keras.layers.Flatten(input_shape=(28, 28, 1), name='input'),\n",
    "    tf.keras.layers.Dense(128, activation='relu', name='h1'),\n",
    "    tf.keras.layers.Dense(64, activation='relu', name='h2'),\n",
    "    tf.keras.layers.Dense(n_output, activation='softmax', name='output')\n",
    "], name='my_model')\n",
    "\n",
    "my_model.summary()"
   ]
  },
  {
   "cell_type": "markdown",
   "metadata": {},
   "source": [
    "## Activation Functions\n",
    "\n",
    "So far we've only been looking at the softmax activation, but in general any function can be used as an activation function. The only requirement is that for a network to approximate a non-linear function, the activation functions must be non-linear. Here are a few more examples of common activation functions: Tanh (hyperbolic tangent), and ReLU (rectified linear unit).\n",
    "\n",
    "<img src=\"assets/activation.png\" width=700px>\n",
    "\n",
    "In practice, the ReLU function is used almost exclusively as the activation function for hidden layers."
   ]
  },
  {
   "cell_type": "markdown",
   "metadata": {},
   "source": [
    "## Looking at the Weights and Biases\n",
    "\n",
    "Keras automatically initializes the weights and biases. The weights and biases are tensors attached to each of the layers you defined in your model. We can get all the weights and biases from our model by using the `get_weights` method. The `get_weights` method returns a list of all the weight and bias tensors in our model as NumPy arrays."
   ]
  },
  {
   "cell_type": "code",
   "execution_count": 16,
   "metadata": {},
   "outputs": [
    {
     "output_type": "stream",
     "name": "stdout",
     "text": "Type of model_weights_bias: <class 'list'>\nThere are 4 Numpy arrays in model_weights_bias\n[array([[-0.01775974, -0.03991682,  0.06238282, ...,  0.02446423,\n         0.02922213, -0.04960269],\n       [ 0.05924234, -0.03334293, -0.05372495, ...,  0.01619226,\n        -0.05593847, -0.04365036],\n       [-0.03282729, -0.01344281,  0.0493536 , ...,  0.07276618,\n        -0.04153899,  0.01842684],\n       ...,\n       [-0.01409616, -0.01334821, -0.02921186, ...,  0.03604393,\n        -0.04707567, -0.06299612],\n       [ 0.05719985, -0.05717287, -0.02814098, ..., -0.00734516,\n        -0.05455948,  0.06700145],\n       [-0.06104539,  0.00621922,  0.05025917, ..., -0.01287328,\n         0.04085471, -0.00930215]], dtype=float32), array([0., 0., 0., 0., 0., 0., 0., 0., 0., 0., 0., 0., 0., 0., 0., 0., 0.,\n       0., 0., 0., 0., 0., 0., 0., 0., 0., 0., 0., 0., 0., 0., 0., 0., 0.,\n       0., 0., 0., 0., 0., 0., 0., 0., 0., 0., 0., 0., 0., 0., 0., 0., 0.,\n       0., 0., 0., 0., 0., 0., 0., 0., 0., 0., 0., 0., 0., 0., 0., 0., 0.,\n       0., 0., 0., 0., 0., 0., 0., 0., 0., 0., 0., 0., 0., 0., 0., 0., 0.,\n       0., 0., 0., 0., 0., 0., 0., 0., 0., 0., 0., 0., 0., 0., 0., 0., 0.,\n       0., 0., 0., 0., 0., 0., 0., 0., 0., 0., 0., 0., 0., 0., 0., 0., 0.,\n       0., 0., 0., 0., 0., 0., 0., 0., 0., 0., 0., 0., 0., 0., 0., 0., 0.,\n       0., 0., 0., 0., 0., 0., 0., 0., 0., 0., 0., 0., 0., 0., 0., 0., 0.,\n       0., 0., 0., 0., 0., 0., 0., 0., 0., 0., 0., 0., 0., 0., 0., 0., 0.,\n       0., 0., 0., 0., 0., 0., 0., 0., 0., 0., 0., 0., 0., 0., 0., 0., 0.,\n       0., 0., 0., 0., 0., 0., 0., 0., 0., 0., 0., 0., 0., 0., 0., 0., 0.,\n       0., 0., 0., 0., 0., 0., 0., 0., 0., 0., 0., 0., 0., 0., 0., 0., 0.,\n       0., 0., 0., 0., 0., 0., 0., 0., 0., 0., 0., 0., 0., 0., 0., 0., 0.,\n       0., 0., 0., 0., 0., 0., 0., 0., 0., 0., 0., 0., 0., 0., 0., 0., 0.,\n       0.], dtype=float32), array([[ 0.04838885,  0.02334869,  0.10839954, ...,  0.12515739,\n         0.10058731, -0.04694982],\n       [ 0.06505488,  0.0382698 ,  0.00576298, ...,  0.05601525,\n        -0.05977405,  0.02544998],\n       [-0.10514787, -0.14066297, -0.05051482, ...,  0.02872433,\n         0.14308664, -0.00799683],\n       ...,\n       [-0.00847289,  0.05258019, -0.13840759, ..., -0.0987628 ,\n        -0.06974846, -0.00678217],\n       [-0.08430958,  0.11816081,  0.13716301, ...,  0.10485578,\n        -0.0975017 , -0.0240301 ],\n       [ 0.00779775, -0.03107406,  0.11557862, ..., -0.10512713,\n        -0.12796137,  0.14041382]], dtype=float32), array([0., 0., 0., 0., 0., 0., 0., 0., 0., 0.], dtype=float32)]\n"
    }
   ],
   "source": [
    "model_weights_biases = model.get_weights()\n",
    "\n",
    "print('Type of model_weights_bias:', type(model_weights_biases))\n",
    "print('There are {} Numpy arrays in model_weights_bias'.format(len(model_weights_biases)))\n",
    "\n",
    "print(model_weights_biases)"
   ]
  },
  {
   "cell_type": "markdown",
   "metadata": {},
   "source": [
    "We can also get the weights and biases for a specific layer by using the `get_layer` method. In this case we first specify the layer we want by using the `index` argument and then apply the `get_weights` method as we did before. For example, to get the weights and biases of the first layer of our sequential model we will use:\n",
    "\n",
    "```python\n",
    "weights = model.get_layer(index=0).get_weights()[0]\n",
    "biases = model.get_layer(index=0).get_weights()[1]\n",
    "\n",
    "```\n",
    "\n",
    "Notice, that we used `index=0` to get the first layer of our model which in this case is a `tf.keras.layers.Flatten`. Since this layer just flattens our input, it has no weights or biases. Therefore, in this case, the layer with `index=0` has no weights or biases, so calling `get_weights()[0]` will produce an error because  `get_weights()` will return an empty list (`[]`). So, when you are getting the weights and biases from each layer you should check first whether the layer has any weights or biases at all. \n",
    "\n",
    "Alternatively, you can also use the `layers` method to get a list of the layers of your model. You can then loop through the layers and check if they have weights before calling `get_weights()`. Let's see an example:"
   ]
  },
  {
   "cell_type": "code",
   "execution_count": 17,
   "metadata": {},
   "outputs": [
    {
     "output_type": "execute_result",
     "data": {
      "text/plain": "[<tensorflow.python.keras.layers.core.Flatten at 0x20b48a4d4c0>,\n <tensorflow.python.keras.layers.core.Dense at 0x20b49cfe250>,\n <tensorflow.python.keras.layers.core.Dense at 0x20b49cfe5b0>]"
     },
     "metadata": {},
     "execution_count": 17
    }
   ],
   "source": [
    "# display layers in model\n",
    "model.layers"
   ]
  },
  {
   "cell_type": "code",
   "execution_count": 18,
   "metadata": {},
   "outputs": [
    {
     "output_type": "stream",
     "name": "stdout",
     "text": "\nLayer 0: input\n\nThe layer has no weights and biases.\n\n------------------------------\n\nLayer 1: h1\n\n•Weights: [[-0.01775974 -0.03991682  0.06238282 ...  0.02446423  0.02922213\n  -0.04960269]\n [ 0.05924234 -0.03334293 -0.05372495 ...  0.01619226 -0.05593847\n  -0.04365036]\n [-0.03282729 -0.01344281  0.0493536  ...  0.07276618 -0.04153899\n   0.01842684]\n ...\n [-0.01409616 -0.01334821 -0.02921186 ...  0.03604393 -0.04707567\n  -0.06299612]\n [ 0.05719985 -0.05717287 -0.02814098 ... -0.00734516 -0.05455948\n   0.06700145]\n [-0.06104539  0.00621922  0.05025917 ... -0.01287328  0.04085471\n  -0.00930215]]\n•Bias: [0. 0. 0. 0. 0. 0. 0. 0. 0. 0. 0. 0. 0. 0. 0. 0. 0. 0. 0. 0. 0. 0. 0. 0.\n 0. 0. 0. 0. 0. 0. 0. 0. 0. 0. 0. 0. 0. 0. 0. 0. 0. 0. 0. 0. 0. 0. 0. 0.\n 0. 0. 0. 0. 0. 0. 0. 0. 0. 0. 0. 0. 0. 0. 0. 0. 0. 0. 0. 0. 0. 0. 0. 0.\n 0. 0. 0. 0. 0. 0. 0. 0. 0. 0. 0. 0. 0. 0. 0. 0. 0. 0. 0. 0. 0. 0. 0. 0.\n 0. 0. 0. 0. 0. 0. 0. 0. 0. 0. 0. 0. 0. 0. 0. 0. 0. 0. 0. 0. 0. 0. 0. 0.\n 0. 0. 0. 0. 0. 0. 0. 0. 0. 0. 0. 0. 0. 0. 0. 0. 0. 0. 0. 0. 0. 0. 0. 0.\n 0. 0. 0. 0. 0. 0. 0. 0. 0. 0. 0. 0. 0. 0. 0. 0. 0. 0. 0. 0. 0. 0. 0. 0.\n 0. 0. 0. 0. 0. 0. 0. 0. 0. 0. 0. 0. 0. 0. 0. 0. 0. 0. 0. 0. 0. 0. 0. 0.\n 0. 0. 0. 0. 0. 0. 0. 0. 0. 0. 0. 0. 0. 0. 0. 0. 0. 0. 0. 0. 0. 0. 0. 0.\n 0. 0. 0. 0. 0. 0. 0. 0. 0. 0. 0. 0. 0. 0. 0. 0. 0. 0. 0. 0. 0. 0. 0. 0.\n 0. 0. 0. 0. 0. 0. 0. 0. 0. 0. 0. 0. 0. 0. 0. 0.]\n\nThis layer has a total of 200,704 weights and 256 biases\n\n------------------------------\n\nLayer 2: output\n\n•Weights: [[ 0.04838885  0.02334869  0.10839954 ...  0.12515739  0.10058731\n  -0.04694982]\n [ 0.06505488  0.0382698   0.00576298 ...  0.05601525 -0.05977405\n   0.02544998]\n [-0.10514787 -0.14066297 -0.05051482 ...  0.02872433  0.14308664\n  -0.00799683]\n ...\n [-0.00847289  0.05258019 -0.13840759 ... -0.0987628  -0.06974846\n  -0.00678217]\n [-0.08430958  0.11816081  0.13716301 ...  0.10485578 -0.0975017\n  -0.0240301 ]\n [ 0.00779775 -0.03107406  0.11557862 ... -0.10512713 -0.12796137\n   0.14041382]]\n•Bias: [0. 0. 0. 0. 0. 0. 0. 0. 0. 0.]\n\nThis layer has a total of 2,560 weights and 10 biases\n\n------------------------------\n"
    }
   ],
   "source": [
    "for i, layer in enumerate(model.layers):\n",
    "    \n",
    "    if len(layer.get_weights()) > 0:\n",
    "        w = layer.get_weights()[0]\n",
    "        b = layer.get_weights()[1]\n",
    "\n",
    "        print('\\nLayer {}: {}\\n'.format(i, layer.name))\n",
    "        print('\\u2022Weights:', w)\n",
    "        print('\\u2022Bias:', b)\n",
    "        print('\\nThis layer has a total of {:,} weights and {:,} biases'.format(w.size, b.size))\n",
    "        print('\\n{}'.format('-'*30))\n",
    "    else:\n",
    "        print('\\nLayer {}: {}\\n'.format(i, layer.name))\n",
    "        print('The layer has no weights and biases.')\n",
    "        print('\\n{}'.format('-'*30))\n",
    "    "
   ]
  },
  {
   "cell_type": "markdown",
   "metadata": {},
   "source": [
    "As we can see, by default, all the biases are initialized to zero.\n",
    "\n",
    "On the other hand, by default, the weights are initialized using a Glorot uniform initializer that draws samples from a uniform distribution within \\[-`limit`, `limit`\\] where `limit` is `sqrt(6 / (fan_in + fan_out))` where `fan_in` is the number of input units in the weight tensor and `fan_out` is the number of output units in the weight tensor.\n",
    "\n",
    "In Keras, you can change the default initialization methods for the weights and biases. To know more about the available initializers check out the links below:\n",
    "\n",
    "* [Available initializers](https://keras.io/initializers/)\n",
    "\n",
    "* [Dense Layer](https://www.tensorflow.org/versions/r2.0/api_docs/python/tf/keras/layers/Dense)"
   ]
  },
  {
   "cell_type": "markdown",
   "metadata": {},
   "source": [
    "## Make Predictions\n",
    "\n",
    "To make predictions on a batch of images with our model we use the `.predict(image_batch)` method. This method takes the images in our batch, feeds them to our network, performs a forward pass, and outputs a NumPy ndarray of shape `(batch_size, num_classes)` with the predicted probabilities for each image in the batch. \n",
    "\n",
    "Since we have 64 images per batch (*i.e.* `batch_size = 64`) and our dataset has 10 classes (*i.e.* `num_classes = 10`), then our model will output an array of shape `(64,10)`. The rows in this array hold the predicted probabilities for our images. Consequently, the first row holds the predicted probabilities for the first image in our batch; the second row holds the predicted probabilities for the second image in our batch; the third row holds the predicted probabilities for the third image in our batch; and so on. In this case, the predicted probabilities consist of 10 values, that is, one probability per class. Therefore, for each of the 64 images in our batch we will have 10 probabilities. \n",
    "\n",
    "Let's plot our model's predicted probabilities for the first image in our batch."
   ]
  },
  {
   "cell_type": "code",
   "execution_count": 19,
   "metadata": {},
   "outputs": [
    {
     "output_type": "display_data",
     "data": {
      "text/plain": "<Figure size 432x648 with 2 Axes>",
      "image/png": "[encoded data removed]"
     },
     "metadata": {
      "image/png": {
       "width": 424,
       "height": 235
      },
      "needs_background": "light"
     }
    }
   ],
   "source": [
    "for image_batch, label_batch in training_batch.take(1):\n",
    "    ps = model.predict(image_batch)\n",
    "    first_image = image_batch.numpy().squeeze()[0]\n",
    "\n",
    "fig, (ax1, ax2) = plt.subplots(figsize=(6, 9), ncols=2)\n",
    "ax1.imshow(first_image, cmap=plt.cm.binary)\n",
    "ax1.axis('off')\n",
    "ax2.barh(np.arange(10), ps[0])\n",
    "ax2.set_aspect(0.1)\n",
    "ax2.set_yticks(np.arange(10))\n",
    "ax2.set_yticklabels(np.arange(10))\n",
    "ax2.set_title('Class Probability')\n",
    "ax2.set_xlim(0, 1.1)\n",
    "plt.tight_layout()\n",
    ""
   ]
  },
  {
   "cell_type": "markdown",
   "metadata": {},
   "source": [
    "As you can see above, our model gives every digit roughly the same probability. This means our network has basically no idea what the digit in the image is. This is because we haven't trained our model yet, so all the weights are random!"
   ]
  },
  {
   "cell_type": "markdown",
   "metadata": {},
   "source": [
    "## Subclassing with TensorFlow and Keras\n",
    "\n",
    "The `tf.keras.Sequential` model is a simple stack of layers that cannot be used to create arbitrary models. Luckily, `tf.keras` gives us the flexibility to build fully-customizable models by subclassing the `tf.keras.Model` and defining our own forward pass.\n",
    "\n",
    "In the following example we will use a subclassed `tf.keras.Model` to build the same neural network as we built above with 784 inputs, 256 hidden units, and 10 output units. As before, we will use a ReLu activation function for the units in the hidden layer, and a Softmax activation function for the output neurons. "
   ]
  },
  {
   "cell_type": "code",
   "execution_count": 20,
   "metadata": {},
   "outputs": [],
   "source": [
    "class Network(tf.keras.Model):\n",
    "    def __init__(self, num_classes=2):\n",
    "        super().__init__() # super() to refer to the parent class, adding a call to the parent's __init__ method\n",
    "        self.num_classes = num_classes\n",
    "\n",
    "        # define layers\n",
    "        self.input_layer = tf.keras.layers.Flatten()\n",
    "        self.hidden_layer = tf.keras.layers.Dense(256, activation='relu')\n",
    "        self.output_layer = tf.keras.layers.Dense(self.num_classes, activation='softmax')\n",
    "    \n",
    "    def call(self, input_tensor):\n",
    "        # nn customization happens here, the current implementation follows the Sequential method\n",
    "        x = self.input_layer(input_tensor)\n",
    "        x = self.hidden_layer(x)\n",
    "        x = self.output_layer(x)\n",
    "\n",
    "        return x"
   ]
  },
  {
   "cell_type": "markdown",
   "metadata": {},
   "source": [
    "Let's go through this bit by bit.\n",
    "\n",
    "```python\n",
    "class Network(tf.keras.Model):\n",
    "```\n",
    "\n",
    "Here we're inheriting from `tf.keras.Model`. Combined with `super().__init__()` this creates a class that provides a lot of useful methods and attributes. It is mandatory to inherit from `tf.keras.Model` when you're creating a class for your network. However, the name of the class itself can be anything.\n",
    "\n",
    "We then create the layers of our network in the `__init__` method and set them as attributes of the class instance. We also assign the number of neurons in our output layer in the `__init__` method via the `num_classes` argument, which by default will have a value of 2.\n",
    "\n",
    "```python\n",
    "self.input = tf.keras.layers.Flatten()\n",
    "```\n",
    "\n",
    "The first layer flattens the input image as we have discussed previously. We have given this layer the name `self.input`. We will use this name to reference this layer later. It doesn't matter what name you give your layers, you can name them whatever you want.\n",
    "\n",
    "```python\n",
    "self.hidden = tf.keras.layers.Dense(256, activation = 'relu')\n",
    "```\n",
    "\n",
    "The second layer is a fully-connected (dense) layer with 256 neurons and a ReLu activation function. We have given this layer the name `self.hidden`. We will use this name to reference this layer later.\n",
    "\n",
    "```python\n",
    "self.output = tf.keras.layers.Dense(self.num_classes, activation = 'softmax')\n",
    "```\n",
    "\n",
    "The third and last layer (output layer) is also a fully-connected (dense) layer with `self.num_classes` neurons and a softmax activation function. By default the number of output units will be 2, but can be defined to be any other integer depending on the number of output classes of your dataset. \n",
    "\n",
    "Next, we define the forward pass in the `call` method.\n",
    "\n",
    "```python\n",
    "def call(self, input_tensor):\n",
    "```\n",
    "\n",
    "TensorFlow models created with `tf.keras.Model` must have a `call` method defined. In the `call` method we take `input_tensor` and pass it through the layers we defined in the `__init__` method.\n",
    "\n",
    "```python\n",
    "x = self.input(input_tensor)\n",
    "x = self.hidden(x)\n",
    "x = self.output(x)\n",
    "```\n",
    "\n",
    "Here the `input_tensor` is passed through each layer and reassigned to `x`. We can see that the `input_tensor` goes through the `input` layer, then the `hidden` layer, and finally through the `output` layer. The order in which you define the layers in the `__init__` method doesn't matter, but you'll need to sequence the layers correctly in the `call` method. Notice that we are referring to each layer in the `__init__` method by the name we gave them. Remember this names are arbitrary.\n",
    "\n",
    "Now that we have defined our model class we can create a `model` object. Note that we didn't specify the shape of our input tensor in our `Network` class. In this case, the weights and biases will only be initialized when we build our model by calling `build(batch_input_shape)` or when the first call to a training/evaluation method (such as `.fit` or `.evaluate`) is made. We call this a delayed-build pattern.\n",
    "\n",
    "So, now let's create a `model` object and build it (i.e. initialize its weights and biases) by calling `build()`."
   ]
  },
  {
   "cell_type": "code",
   "execution_count": 21,
   "metadata": {},
   "outputs": [
    {
     "output_type": "stream",
     "name": "stdout",
     "text": "Model: \"network\"\n_________________________________________________________________\nLayer (type)                 Output Shape              Param #   \n=================================================================\nflatten (Flatten)            multiple                  0         \n_________________________________________________________________\ndense (Dense)                multiple                  200960    \n_________________________________________________________________\ndense_1 (Dense)              multiple                  2570      \n=================================================================\nTotal params: 203,530\nTrainable params: 203,530\nNon-trainable params: 0\n_________________________________________________________________\n"
    }
   ],
   "source": [
    "# create a model object\n",
    "subclassed_model = Network(10)\n",
    "\n",
    "# build the model\n",
    "subclassed_model.build((None, 28, 28, 1))\n",
    "\n",
    "subclassed_model.summary()"
   ]
  },
  {
   "cell_type": "markdown",
   "metadata": {},
   "source": [
    "Remember that `None` is used to indicate that any integer may be expected. So, we use `None` to indicate batches of any size are acceptable. \n",
    "\n",
    "While model subclassing offers flexibility, it comes at a cost of greater complexity and more opportunities for\n",
    "user errors. So, we recommend, to always use the simplest tool for the job. "
   ]
  },
  {
   "cell_type": "markdown",
   "metadata": {},
   "source": [
    "### Your Turn to Build a Neural Network\n",
    "\n",
    "<img src=\"assets/mlp_mnist.png\" width=600px>\n",
    "\n",
    "> **Exercise:** Use the subclassing method to create a network with 784 input units, a hidden layer with 128 units and a ReLU activation, then a hidden layer with 64 units and a ReLU activation, and finally an output layer with 10 units and a softmax activation function. You can use a ReLU activation function by setting `activation = 'relu'`. After you create your model, create a model object and build it."
   ]
  },
  {
   "cell_type": "code",
   "execution_count": 22,
   "metadata": {},
   "outputs": [
    {
     "output_type": "stream",
     "name": "stdout",
     "text": "Model: \"n_network\"\n_________________________________________________________________\nLayer (type)                 Output Shape              Param #   \n=================================================================\nflatten_1 (Flatten)          multiple                  0         \n_________________________________________________________________\ndense_2 (Dense)              multiple                  100480    \n_________________________________________________________________\ndense_3 (Dense)              multiple                  8256      \n_________________________________________________________________\ndense_4 (Dense)              multiple                  650       \n=================================================================\nTotal params: 109,386\nTrainable params: 109,386\nNon-trainable params: 0\n_________________________________________________________________\n"
    }
   ],
   "source": [
    "class NNetwork(tf.keras.Model):\n",
    "    def __init__(self, num_classes = 2):\n",
    "        super().__init__()\n",
    "        self.num_classes = num_classes\n",
    "\n",
    "        self.feature = tf.keras.layers.Flatten()\n",
    "        self.h1 = tf.keras.layers.Dense(128, activation='relu')\n",
    "        self.h2 = tf.keras.layers.Dense(64, activation='relu')\n",
    "        self.pred = tf.keras.layers.Dense(self.num_classes, activation='softmax')\n",
    "    \n",
    "    def call(self, input_tensor):\n",
    "        x = self.feature(input_tensor)\n",
    "        x = self.h1(x)\n",
    "        x = self.h2(x)\n",
    "        x = self.pred(x)\n",
    "\n",
    "        return x\n",
    "\n",
    "my_model_2 = NNetwork(10)\n",
    "my_model_2.build((None, 28, 28, 1))\n",
    "\n",
    "my_model_2.summary()"
   ]
  },
  {
   "cell_type": "code",
   "execution_count": 23,
   "metadata": {},
   "outputs": [
    {
     "output_type": "stream",
     "name": "stdout",
     "text": "The layer has 100352 weights and 128 biases.\n• Weights: [[-0.05873523  0.0127569   0.00856748 ...  0.02582984  0.072896\n  -0.04384984]\n [-0.03368001  0.04415839  0.05991597 ...  0.01512721  0.05463872\n  -0.02134268]\n [-0.03350415  0.06982293 -0.05382402 ...  0.05616412  0.02230623\n  -0.07519354]\n ...\n [ 0.07682807 -0.06713799 -0.07753129 ...  0.01246524 -0.04378328\n  -0.07328007]\n [-0.07798622 -0.06537958  0.01925339 ...  0.02887172  0.03134506\n   0.01899843]\n [ 0.02468731  0.0719694  -0.06370226 ... -0.0673383  -0.02082056\n   0.07944836]]\n• Biases: [0. 0. 0. 0. 0. 0. 0. 0. 0. 0. 0. 0. 0. 0. 0. 0. 0. 0. 0. 0. 0. 0. 0. 0.\n 0. 0. 0. 0. 0. 0. 0. 0. 0. 0. 0. 0. 0. 0. 0. 0. 0. 0. 0. 0. 0. 0. 0. 0.\n 0. 0. 0. 0. 0. 0. 0. 0. 0. 0. 0. 0. 0. 0. 0. 0. 0. 0. 0. 0. 0. 0. 0. 0.\n 0. 0. 0. 0. 0. 0. 0. 0. 0. 0. 0. 0. 0. 0. 0. 0. 0. 0. 0. 0. 0. 0. 0. 0.\n 0. 0. 0. 0. 0. 0. 0. 0. 0. 0. 0. 0. 0. 0. 0. 0. 0. 0. 0. 0. 0. 0. 0. 0.\n 0. 0. 0. 0. 0. 0. 0. 0.]\n"
    },
    {
     "output_type": "execute_result",
     "data": {
      "text/plain": "[<tensorflow.python.keras.layers.core.Flatten at 0x20b49eb3760>,\n <tensorflow.python.keras.layers.core.Dense at 0x20b4a47bdf0>,\n <tensorflow.python.keras.layers.core.Dense at 0x20b4a484460>,\n <tensorflow.python.keras.layers.core.Dense at 0x20b4a484820>]"
     },
     "metadata": {},
     "execution_count": 23
    }
   ],
   "source": [
    "# getting weights and biases of subclassed model\n",
    "w1 = my_model_2.h1.get_weights()[0]\n",
    "b1 = my_model_2.h1.get_weights()[1]\n",
    "\n",
    "print('The layer has {} weights and {} biases.'.format(w1.size, b1.size))\n",
    "print('\\u2022 Weights:', w1)\n",
    "print('\\u2022 Biases:', b1)\n",
    "\n",
    "my_model_2.layers"
   ]
  },
  {
   "cell_type": "markdown",
   "metadata": {},
   "source": [
    "## Making Predictions with Subclassed Models\n",
    "\n",
    "Predictions are made in exactly the same way as before. So let's pass an image to our subclassed model and see what we get:"
   ]
  },
  {
   "cell_type": "code",
   "execution_count": 24,
   "metadata": {},
   "outputs": [
    {
     "output_type": "display_data",
     "data": {
      "text/plain": "<Figure size 432x648 with 2 Axes>",
      "image/png": "[encoded data removed]"
     },
     "metadata": {
      "image/png": {
       "width": 424,
       "height": 235
      },
      "needs_background": "light"
     }
    }
   ],
   "source": [
    "for image_batch, label_batch in training_batch.take(1):\n",
    "    ps = subclassed_model.predict(image_batch)\n",
    "    first_image = image_batch.numpy().squeeze()[0]\n",
    "\n",
    "fig, (ax1, ax2) = plt.subplots(figsize=(6,9), ncols=2)\n",
    "ax1.imshow(first_image, cmap=plt.cm.binary)\n",
    "ax1.axis('off')\n",
    "ax2.barh(np.arange(10), ps[0])\n",
    "ax2.set_aspect(0.1)\n",
    "ax2.set_yticks(np.arange(10))\n",
    "ax2.set_yticklabels(np.arange(10))\n",
    "ax2.set_title('Class Probability')\n",
    "ax2.set_xlim(0, 1.1)\n",
    "plt.tight_layout()"
   ]
  },
  {
   "cell_type": "markdown",
   "metadata": {},
   "source": [
    "## Other Methods to Create Models"
   ]
  },
  {
   "cell_type": "code",
   "execution_count": 32,
   "metadata": {},
   "outputs": [
    {
     "output_type": "stream",
     "name": "stdout",
     "text": "Model: \"sequential_1\"\n_________________________________________________________________\nLayer (type)                 Output Shape              Param #   \n=================================================================\nflatten_1 (Flatten)          (None, 784)               0         \n_________________________________________________________________\ndense_6 (Dense)              (None, 32)                25120     \n_________________________________________________________________\ndense_7 (Dense)              (None, 10)                330       \n=================================================================\nTotal params: 25,450\nTrainable params: 25,450\nNon-trainable params: 0\n_________________________________________________________________\n"
    }
   ],
   "source": [
    "model = tf.keras.Sequential()\n",
    "model.add(tf.keras.layers.Flatten(input_shape=(28, 28, 1)))\n",
    "model.add(tf.keras.layers.Dense(32, activation='relu'))\n",
    "model.add(tf.keras.layers.Dense(10, activation='softmax'))\n",
    "\n",
    "model.summary()"
   ]
  },
  {
   "cell_type": "code",
   "execution_count": 33,
   "metadata": {},
   "outputs": [
    {
     "output_type": "stream",
     "name": "stdout",
     "text": "Model: \"sequential_2\"\n_________________________________________________________________\nLayer (type)                 Output Shape              Param #   \n=================================================================\nflatten_2 (Flatten)          (None, 784)               0         \n_________________________________________________________________\ndense_8 (Dense)              (None, 512)               401920    \n_________________________________________________________________\ndense_9 (Dense)              (None, 256)               131328    \n_________________________________________________________________\ndense_10 (Dense)             (None, 128)               32896     \n_________________________________________________________________\ndense_11 (Dense)             (None, 64)                8256      \n_________________________________________________________________\ndense_12 (Dense)             (None, 32)                2080      \n_________________________________________________________________\ndense_13 (Dense)             (None, 10)                330       \n=================================================================\nTotal params: 576,810\nTrainable params: 576,810\nNon-trainable params: 0\n_________________________________________________________________\n"
    }
   ],
   "source": [
    "layer_neurons = [512, 256, 128, 64, 32]\n",
    "\n",
    "model = tf.keras.Sequential()\n",
    "\n",
    "model.add(tf.keras.layers.Flatten(input_shape=(28,28,1)))\n",
    "for neuron in layer_neurons:\n",
    "    model.add(tf.keras.layers.Dense(neuron, activation='relu'))\n",
    "\n",
    "model.add(tf.keras.layers.Dense(10, activation='softmax'))\n",
    "\n",
    "model.summary()"
   ]
  },
  {
   "cell_type": "markdown",
   "metadata": {},
   "source": [
    "## Clearing the Graph\n",
    "\n",
    "In order to avoid clutter from old models in the graph, we can use:\n",
    "\n",
    "```python\n",
    "tf.keras.backend.clear_session()\n",
    "```\n",
    "\n",
    "This command deletes the current `tf.keras` graph and creates a new one."
   ]
  },
  {
   "cell_type": "code",
   "execution_count": 35,
   "metadata": {},
   "outputs": [
    {
     "output_type": "stream",
     "name": "stdout",
     "text": "Model: \"sequential\"\n_________________________________________________________________\nLayer (type)                 Output Shape              Param #   \n=================================================================\nflatten (Flatten)            (None, 784)               0         \n_________________________________________________________________\ndense (Dense)                (None, 512)               401920    \n_________________________________________________________________\ndense_1 (Dense)              (None, 256)               131328    \n_________________________________________________________________\ndense_2 (Dense)              (None, 128)               32896     \n_________________________________________________________________\ndense_3 (Dense)              (None, 64)                8256      \n_________________________________________________________________\ndense_4 (Dense)              (None, 32)                2080      \n_________________________________________________________________\ndense_5 (Dense)              (None, 10)                330       \n=================================================================\nTotal params: 576,810\nTrainable params: 576,810\nNon-trainable params: 0\n_________________________________________________________________\n"
    }
   ],
   "source": [
    "tf.keras.backend.clear_session()\n",
    "\n",
    "layer_neurons = [512, 256, 128, 64, 32]\n",
    "\n",
    "model = tf.keras.Sequential()\n",
    "\n",
    "model.add(tf.keras.layers.Flatten(input_shape=(28,28,1)))\n",
    "for neuron in layer_neurons:\n",
    "    model.add(tf.keras.layers.Dense(neuron, activation='relu'))\n",
    "\n",
    "model.add(tf.keras.layers.Dense(10, activation='softmax'))\n",
    "\n",
    "model.summary()"
   ]
  },
  {
   "cell_type": "code",
   "execution_count": null,
   "metadata": {},
   "outputs": [],
   "source": []
  }
 ]
}