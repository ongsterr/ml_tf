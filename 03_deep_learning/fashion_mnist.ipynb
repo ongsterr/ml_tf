{
 "nbformat": 4,
 "nbformat_minor": 2,
 "metadata": {
  "language_info": {
   "name": "python",
   "codemirror_mode": {
    "name": "ipython",
    "version": 3
   },
   "version": "3.8.6-final"
  },
  "orig_nbformat": 2,
  "file_extension": ".py",
  "mimetype": "text/x-python",
  "name": "python",
  "npconvert_exporter": "python",
  "pygments_lexer": "ipython3",
  "version": 3,
  "kernelspec": {
   "name": "python38664bitmltfpipenvf0c201ed209b4244b203e4231c95cb06",
   "display_name": "Python 3.8.6 64-bit ('ml_tf': pipenv)"
  }
 },
 "cells": [
  {
   "source": [
    "# Classifying Fashion-MNIST\n",
    "\n",
    "Now it's your turn to build and train a neural network. You'll be using the [Fashion-MNIST dataset](https://github.com/zalandoresearch/fashion-mnist), a drop-in replacement for the MNIST dataset. MNIST is actually quite trivial with neural networks where you can easily achieve better than 97% accuracy. Fashion-MNIST is a set of 28x28 greyscale images of clothes. It's more complex than MNIST, so it's a better representation of the actual performance of your network, and a better representation of datasets you'll use in the real world.\n",
    "\n",
    "<center><img src='assets/fashion-mnist-sprite.png' width=500px></center>\n",
    "\n",
    "In this notebook, you'll build your own neural network. For the most part, you could just copy and paste the code from Part 3, but you wouldn't be learning. It's important for you to write the code yourself and get it to work. Feel free to consult the previous notebooks though as you work through this.\n",
    "\n",
    "First off, let's import our resources and download the Fashion-MNIST dataset from `tensorflow_datasets`. "
   ],
   "cell_type": "markdown",
   "metadata": {}
  },
  {
   "source": [
    "## Import Resources"
   ],
   "cell_type": "markdown",
   "metadata": {}
  },
  {
   "cell_type": "code",
   "execution_count": 2,
   "metadata": {},
   "outputs": [],
   "source": [
    "import warnings\n",
    "warnings.filterwarnings('ignore')"
   ]
  },
  {
   "cell_type": "code",
   "execution_count": 3,
   "metadata": {},
   "outputs": [],
   "source": [
    "%matplotlib inline\n",
    "%config InlineBackend.figure_format = 'retina'\n",
    "\n",
    "import numpy as np\n",
    "import matplotlib.pyplot as plt\n",
    "\n",
    "import tensorflow as tf\n",
    "import tensorflow_datasets as tfds\n",
    "tfds.disable_progress_bar() "
   ]
  },
  {
   "cell_type": "code",
   "execution_count": 4,
   "metadata": {},
   "outputs": [],
   "source": [
    "import logging\n",
    "logger = tf.get_logger()\n",
    "logger.setLevel(logging.ERROR)"
   ]
  },
  {
   "cell_type": "code",
   "execution_count": 5,
   "metadata": {},
   "outputs": [
    {
     "output_type": "stream",
     "name": "stdout",
     "text": "Using:\n\t• TensorFlow version: 2.3.1\n\t• tf.keras version: 2.4.0\n\t• GPU device not found. Running on CPU\n"
    }
   ],
   "source": [
    "print('Using:')\n",
    "print('\\t\\u2022 TensorFlow version:', tf.__version__)\n",
    "print('\\t\\u2022 tf.keras version:', tf.keras.__version__)\n",
    "print('\\t\\u2022 Running on GPU' if tf.test.is_gpu_available() else '\\t\\u2022 GPU device not found. Running on CPU')"
   ]
  },
  {
   "source": [
    "## Load the Dataset\n",
    "\n",
    "We are now going to load the Fashion-MNIST dataset using `tensorflow_datasets` as we've done before. In this case, however, we are going to omit the `split` argument.  This means that `tensorflow_datasets` will use the default value for `split` which is `split=None`. When `split=None`, `tensorflow_datasets` returns a **dictionary** with all the splits available for the dataset you are loading. However, if the split is given explicitly, such as `split='train'`, then `tensorflow_datasets` returns a `tf.data.Dataset` object.\n",
    "\n",
    "In our case, we are going to load the `fashion_mnist` dataset. If we look at the [documentation](https://www.tensorflow.org/datasets/catalog/fashion_mnist#statistics) we will see that this particular dataset has 2 splits, namely a `train` and a `test` slipt. We also see that the `train` split has 60,000 examples, and that the `test` split has 10,000 examples. \n",
    "\n",
    "Now, let's load the `fashion_mnist` dataset and inspect the returned values."
   ],
   "cell_type": "markdown",
   "metadata": {}
  },
  {
   "cell_type": "code",
   "execution_count": 6,
   "metadata": {},
   "outputs": [
    {
     "output_type": "stream",
     "name": "stdout",
     "text": "\u001b[1mDownloading and preparing dataset fashion_mnist/3.0.1 (download: Unknown size, generated: Unknown size, total: Unknown size) to C:\\Users\\ongch\\tensorflow_datasets\\fashion_mnist\\3.0.1...\u001b[0m\nShuffling and writing examples to C:\\/Users/ongch/tensorflow_datasets/fashion_mnist/3.0.1.incomplete75461H/fashion_mnist-train.tfrecord\nShuffling and writing examples to C:\\/Users/ongch/tensorflow_datasets/fashion_mnist/3.0.1.incomplete75461H/fashion_mnist-test.tfrecord\n\u001b[1mDataset fashion_mnist downloaded and prepared to C:\\Users\\ongch\\tensorflow_datasets\\fashion_mnist\\3.0.1. Subsequent calls will reuse this data.\u001b[0m\n"
    }
   ],
   "source": [
    "dataset, dataset_info = tfds.load('fashion_mnist', as_supervised = True, with_info = True)"
   ]
  },
  {
   "cell_type": "code",
   "execution_count": 7,
   "metadata": {},
   "outputs": [
    {
     "output_type": "stream",
     "name": "stdout",
     "text": "Dataset has type: <class 'dict'>\n\nThe keys of dataset are: [Split('test'), Split('train')]\n"
    }
   ],
   "source": [
    "print('Dataset has type:', type(dataset))\n",
    "print('\\nThe keys of dataset are:', list(dataset.keys()))"
   ]
  },
  {
   "cell_type": "code",
   "execution_count": 8,
   "metadata": {},
   "outputs": [],
   "source": [
    "training_set, test_set = dataset['train'], dataset['test']"
   ]
  },
  {
   "cell_type": "code",
   "execution_count": 9,
   "metadata": {},
   "outputs": [
    {
     "output_type": "execute_result",
     "data": {
      "text/plain": "tfds.core.DatasetInfo(\n    name='fashion_mnist',\n    version=3.0.1,\n    description='Fashion-MNIST is a dataset of Zalando's article images consisting of a training set of 60,000 examples and a test set of 10,000 examples. Each example is a 28x28 grayscale image, associated with a label from 10 classes.',\n    homepage='https://github.com/zalandoresearch/fashion-mnist',\n    features=FeaturesDict({\n        'image': Image(shape=(28, 28, 1), dtype=tf.uint8),\n        'label': ClassLabel(shape=(), dtype=tf.int64, num_classes=10),\n    }),\n    total_num_examples=70000,\n    splits={\n        'test': 10000,\n        'train': 60000,\n    },\n    supervised_keys=('image', 'label'),\n    citation=\"\"\"@article{DBLP:journals/corr/abs-1708-07747,\n      author    = {Han Xiao and\n                   Kashif Rasul and\n                   Roland Vollgraf},\n      title     = {Fashion-MNIST: a Novel Image Dataset for Benchmarking Machine Learning\n                   Algorithms},\n      journal   = {CoRR},\n      volume    = {abs/1708.07747},\n      year      = {2017},\n      url       = {http://arxiv.org/abs/1708.07747},\n      archivePrefix = {arXiv},\n      eprint    = {1708.07747},\n      timestamp = {Mon, 13 Aug 2018 16:47:27 +0200},\n      biburl    = {https://dblp.org/rec/bib/journals/corr/abs-1708-07747},\n      bibsource = {dblp computer science bibliography, https://dblp.org}\n    }\"\"\",\n    redistribution_info=,\n)"
     },
     "metadata": {},
     "execution_count": 9
    }
   ],
   "source": [
    "dataset_info"
   ]
  },
  {
   "cell_type": "code",
   "execution_count": 10,
   "metadata": {},
   "outputs": [
    {
     "output_type": "execute_result",
     "data": {
      "text/plain": "Image(shape=(28, 28, 1), dtype=tf.uint8)"
     },
     "metadata": {},
     "execution_count": 10
    }
   ],
   "source": [
    "dataset_info.features['image']"
   ]
  },
  {
   "cell_type": "code",
   "execution_count": 11,
   "metadata": {},
   "outputs": [
    {
     "output_type": "execute_result",
     "data": {
      "text/plain": "ClassLabel(shape=(), dtype=tf.int64, num_classes=10)"
     },
     "metadata": {},
     "execution_count": 11
    }
   ],
   "source": [
    "dataset_info.features['label']"
   ]
  },
  {
   "cell_type": "code",
   "execution_count": 12,
   "metadata": {},
   "outputs": [
    {
     "output_type": "execute_result",
     "data": {
      "text/plain": "<tfds.core.SplitInfo num_examples=60000>"
     },
     "metadata": {},
     "execution_count": 12
    }
   ],
   "source": [
    "dataset_info.splits['train']"
   ]
  },
  {
   "cell_type": "code",
   "execution_count": 14,
   "metadata": {},
   "outputs": [
    {
     "output_type": "stream",
     "name": "stdout",
     "text": "There are 10 classes in the dataset.\nThe images have shape (28, 28, 1)\n\nThere are 60,000 of examples in our training set.\nThere are 10,000 of examples in our test set.\n"
    }
   ],
   "source": [
    "shape_images = dataset_info.features['image'].shape\n",
    "num_classes = dataset_info.features['label'].num_classes\n",
    "\n",
    "num_training_examples = dataset_info.splits['train'].num_examples\n",
    "num_test_examples = dataset_info.splits['test'].num_examples\n",
    "\n",
    "print('There are {:,} classes in the dataset.'.format(num_classes))\n",
    "print('The images have shape {}'.format(shape_images))\n",
    "\n",
    "print('\\nThere are {:,} of examples in our training set.'.format(num_training_examples))\n",
    "print('There are {:,} of examples in our test set.'.format(num_test_examples))"
   ]
  },
  {
   "source": [
    "## Explore the Dataset\n",
    "\n",
    "The images in this dataset are 28 $\\times$ 28 arrays, with pixel values in the range `[0, 255]`. The *labels* are an array of integers, in the range `[0, 9]`. These correspond to the *class* of clothing the image represents:\n",
    "\n",
    "<table>\n",
    "  <tr>\n",
    "    <th>Label</th>\n",
    "    <th>Class</th> \n",
    "  </tr>\n",
    "  <tr>\n",
    "    <td>0</td>\n",
    "    <td>T-shirt/top</td> \n",
    "  </tr>\n",
    "  <tr>\n",
    "    <td>1</td>\n",
    "    <td>Trouser</td> \n",
    "  </tr>\n",
    "    <tr>\n",
    "    <td>2</td>\n",
    "    <td>Pullover</td> \n",
    "  </tr>\n",
    "    <tr>\n",
    "    <td>3</td>\n",
    "    <td>Dress</td> \n",
    "  </tr>\n",
    "    <tr>\n",
    "    <td>4</td>\n",
    "    <td>Coat</td> \n",
    "  </tr>\n",
    "    <tr>\n",
    "    <td>5</td>\n",
    "    <td>Sandal</td> \n",
    "  </tr>\n",
    "    <tr>\n",
    "    <td>6</td>\n",
    "    <td>Shirt</td> \n",
    "  </tr>\n",
    "    <tr>\n",
    "    <td>7</td>\n",
    "    <td>Sneaker</td> \n",
    "  </tr>\n",
    "    <tr>\n",
    "    <td>8</td>\n",
    "    <td>Bag</td> \n",
    "  </tr>\n",
    "    <tr>\n",
    "    <td>9</td>\n",
    "    <td>Ankle boot</td> \n",
    "  </tr>\n",
    "</table>\n",
    "\n",
    "Each image is mapped to a single label. Since the *class names* are not included with the dataset, we create them here to use later when plotting the images:"
   ],
   "cell_type": "markdown",
   "metadata": {}
  },
  {
   "cell_type": "code",
   "execution_count": 15,
   "metadata": {},
   "outputs": [],
   "source": [
    "class_names = ['T-shirt/top', 'Trouser', 'Pullover', 'Dress', 'Coat', 'Sandal', 'Shirt', 'Sneaker', 'Bag', 'Ankle Boot']"
   ]
  },
  {
   "cell_type": "code",
   "execution_count": 17,
   "metadata": {},
   "outputs": [
    {
     "output_type": "stream",
     "name": "stdout",
     "text": "The images in the training set have:\n• dtype: <dtype: 'uint8'>\n• shape: (28, 28, 1)\n"
    }
   ],
   "source": [
    "for image, label in training_set.take(1):\n",
    "    print('The images in the training set have:\\n\\u2022 dtype: {}\\n\\u2022 shape: {}'.format(image.dtype, image.shape))"
   ]
  },
  {
   "cell_type": "code",
   "execution_count": 20,
   "metadata": {},
   "outputs": [
    {
     "output_type": "display_data",
     "data": {
      "text/plain": "<Figure size 432x288 with 2 Axes>",
      "image/png": "[encoded data removed]"
     },
     "metadata": {
      "image/png": {
       "width": 305,
       "height": 248
      },
      "needs_background": "light"
     }
    },
    {
     "output_type": "stream",
     "name": "stdout",
     "text": "The label of this image is: 2\nThe class name of this label is: Pullover\n"
    }
   ],
   "source": [
    "for image, label in training_set.take(1):\n",
    "    image = image.numpy().squeeze()\n",
    "    label = label.numpy()\n",
    "\n",
    "plt.imshow(image, cmap=plt.cm.binary)\n",
    "plt.colorbar()\n",
    "plt.show()\n",
    "\n",
    "print('The label of this image is:', label)\n",
    "print('The class name of this label is:', class_names[label])"
   ]
  },
  {
   "source": [
    "## Create Pipeline"
   ],
   "cell_type": "markdown",
   "metadata": {}
  },
  {
   "cell_type": "code",
   "execution_count": 21,
   "metadata": {},
   "outputs": [],
   "source": [
    "def normalize(image, label):\n",
    "    image = tf.cast(image, tf.float32)\n",
    "    image /= 255\n",
    "    return image, label\n",
    "\n",
    "batch_size = 64\n",
    "\n",
    "training_batches = training_set.cache().shuffle(num_training_examples // 4).batch(batch_size).map(normalize).prefetch(1)\n",
    "testing_batches = test_set.cache().batch(batch_size).map(normalize).prefetch(1)"
   ]
  },
  {
   "source": [
    "## Build the Model"
   ],
   "cell_type": "markdown",
   "metadata": {}
  },
  {
   "cell_type": "code",
   "execution_count": 23,
   "metadata": {},
   "outputs": [
    {
     "output_type": "stream",
     "name": "stdout",
     "text": "Model: \"sequential\"\n_________________________________________________________________\nLayer (type)                 Output Shape              Param #   \n=================================================================\ninput (Flatten)              (None, 784)               0         \n_________________________________________________________________\nh1 (Dense)                   (None, 256)               200960    \n_________________________________________________________________\nh2 (Dense)                   (None, 128)               32896     \n_________________________________________________________________\nh3 (Dense)                   (None, 64)                8256      \n_________________________________________________________________\nh4 (Dense)                   (None, 32)                2080      \n_________________________________________________________________\noutput (Dense)               (None, 10)                330       \n=================================================================\nTotal params: 244,522\nTrainable params: 244,522\nNon-trainable params: 0\n_________________________________________________________________\n"
    }
   ],
   "source": [
    "model = tf.keras.Sequential([\n",
    "    tf.keras.layers.Flatten(input_shape=(28,28,1), name='input'),\n",
    "    tf.keras.layers.Dense(256, activation='relu', name='h1'),\n",
    "    tf.keras.layers.Dense(128, activation='relu', name='h2'),\n",
    "    tf.keras.layers.Dense(64, activation='relu', name='h3'),\n",
    "    tf.keras.layers.Dense(32, activation='relu', name='h4'),\n",
    "    tf.keras.layers.Dense(10, activation='softmax', name='output')\n",
    "])\n",
    "\n",
    "model.summary()"
   ]
  },
  {
   "source": [
    "## Train the Model"
   ],
   "cell_type": "markdown",
   "metadata": {}
  },
  {
   "cell_type": "code",
   "execution_count": 31,
   "metadata": {},
   "outputs": [],
   "source": [
    "model.compile(\n",
    "    optimizer='adam',\n",
    "    loss='sparse_categorical_crossentropy',\n",
    "    metrics=['accuracy']\n",
    ")\n",
    ""
   ]
  },
  {
   "cell_type": "code",
   "execution_count": 32,
   "metadata": {},
   "outputs": [
    {
     "output_type": "stream",
     "name": "stdout",
     "text": "Epoch 1/20\n938/938 [==============================] - 3s 3ms/step - loss: 0.5222 - accuracy: 0.8177\nEpoch 2/20\n938/938 [==============================] - 2s 2ms/step - loss: 0.3724 - accuracy: 0.8654\nEpoch 3/20\n938/938 [==============================] - 2s 2ms/step - loss: 0.3344 - accuracy: 0.8770\nEpoch 4/20\n938/938 [==============================] - 2s 2ms/step - loss: 0.3143 - accuracy: 0.8842\nEpoch 5/20\n938/938 [==============================] - 2s 2ms/step - loss: 0.2941 - accuracy: 0.8911\nEpoch 6/20\n938/938 [==============================] - 2s 2ms/step - loss: 0.2818 - accuracy: 0.8961\nEpoch 7/20\n938/938 [==============================] - 2s 2ms/step - loss: 0.2634 - accuracy: 0.9011\nEpoch 8/20\n938/938 [==============================] - 2s 2ms/step - loss: 0.2536 - accuracy: 0.9052\nEpoch 9/20\n938/938 [==============================] - 2s 2ms/step - loss: 0.2457 - accuracy: 0.9086\nEpoch 10/20\n938/938 [==============================] - 2s 2ms/step - loss: 0.2362 - accuracy: 0.9112\nEpoch 11/20\n938/938 [==============================] - 2s 2ms/step - loss: 0.2267 - accuracy: 0.9150\nEpoch 12/20\n938/938 [==============================] - 2s 2ms/step - loss: 0.2212 - accuracy: 0.9158\nEpoch 13/20\n938/938 [==============================] - 2s 2ms/step - loss: 0.2142 - accuracy: 0.9195\nEpoch 14/20\n938/938 [==============================] - 2s 2ms/step - loss: 0.2067 - accuracy: 0.9212\nEpoch 15/20\n938/938 [==============================] - 2s 2ms/step - loss: 0.1999 - accuracy: 0.9231\nEpoch 16/20\n938/938 [==============================] - 2s 2ms/step - loss: 0.1921 - accuracy: 0.9275\nEpoch 17/20\n938/938 [==============================] - 2s 2ms/step - loss: 0.1864 - accuracy: 0.9286\nEpoch 18/20\n938/938 [==============================] - 2s 2ms/step - loss: 0.1807 - accuracy: 0.9309\nEpoch 19/20\n938/938 [==============================] - 2s 2ms/step - loss: 0.1759 - accuracy: 0.9326\nEpoch 20/20\n938/938 [==============================] - 2s 2ms/step - loss: 0.1699 - accuracy: 0.9357\n"
    },
    {
     "output_type": "execute_result",
     "data": {
      "text/plain": "<tensorflow.python.keras.callbacks.History at 0x15ab667c070>"
     },
     "metadata": {},
     "execution_count": 32
    }
   ],
   "source": [
    "EPOCHS = 20\n",
    "\n",
    "model.fit(training_batches, epochs=EPOCHS)"
   ]
  },
  {
   "source": [
    "## Evalute Loss and Accuracy on Test Set "
   ],
   "cell_type": "markdown",
   "metadata": {}
  },
  {
   "cell_type": "code",
   "execution_count": 34,
   "metadata": {},
   "outputs": [
    {
     "output_type": "stream",
     "name": "stdout",
     "text": "157/157 [==============================] - 0s 1ms/step - loss: 0.3699 - accuracy: 0.8865\n\nLoss on TEST set: 0.370\nAccuracy on TEST set: 88.650%\n"
    }
   ],
   "source": [
    "loss, accuracy = model.evaluate(testing_batches)\n",
    "\n",
    "print('\\nLoss on TEST set: {:,.3f}'.format(loss))\n",
    "print('Accuracy on TEST set: {:,.3%}'.format(accuracy))"
   ]
  },
  {
   "source": [
    "## Check Predictions"
   ],
   "cell_type": "markdown",
   "metadata": {}
  },
  {
   "cell_type": "code",
   "execution_count": 47,
   "metadata": {},
   "outputs": [
    {
     "output_type": "display_data",
     "data": {
      "text/plain": "<Figure size 432x648 with 2 Axes>",
      "image/png": "[encoded data removed]"
     },
     "metadata": {
      "image/png": {
       "width": 424,
       "height": 218
      },
      "needs_background": "light"
     }
    }
   ],
   "source": [
    "sample_number = 35\n",
    "\n",
    "for image_batch, label_batch in testing_batches.take(1):\n",
    "    ps = model.predict(image_batch)\n",
    "    image = image_batch.numpy().squeeze()[sample_number]\n",
    "    label = label_batch.numpy()[sample_number]\n",
    "\n",
    "fig, (ax1, ax2) = plt.subplots(figsize=(6,9), ncols=2)\n",
    "ax1.imshow(image, cmap=plt.cm.binary)\n",
    "ax1.axis('off')\n",
    "ax1.set_title(class_names[label])\n",
    "ax2.barh(np.arange(10), ps[sample_number])\n",
    "ax2.set_aspect(0.1)\n",
    "ax2.set_yticks(np.arange(10))\n",
    "ax2.set_yticklabels(class_names, size='small')\n",
    "ax2.set_title('Class Probability')\n",
    "ax2.set_xlim(0, 1.1)\n",
    "plt.tight_layout()"
   ]
  }
 ]
}