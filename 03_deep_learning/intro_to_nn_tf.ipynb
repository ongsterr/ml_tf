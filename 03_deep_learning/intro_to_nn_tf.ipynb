{
 "metadata": {
  "language_info": {
   "codemirror_mode": {
    "name": "ipython",
    "version": 3
   },
   "file_extension": ".py",
   "mimetype": "text/x-python",
   "name": "python",
   "nbconvert_exporter": "python",
   "pygments_lexer": "ipython3",
   "version": "3.8.6-final"
  },
  "orig_nbformat": 2,
  "kernelspec": {
   "name": "python3",
   "display_name": "Python 3"
  }
 },
 "nbformat": 4,
 "nbformat_minor": 2,
 "cells": [
  {
   "source": [
    "# Introduction to Neural Networks with TensorFlow\n",
    "\n",
    "In this notebook, you'll get introduced to [TensorFlow](https://www.tensorflow.org/), an open source library to help you develop and train machine learning models.\n",
    "\n",
    "TensorFlow in a lot of ways behaves like the arrays you love from NumPy. NumPy arrays, after all, are just tensors. TensorFlow takes these tensors and makes it simple to move them to GPUs for the faster processing needed when training neural networks. TensorFlow can also calculate gradients automatically, which is perfect for backpropagation, and has  intuitive high-level APIs specifically for building neural networks."
   ],
   "cell_type": "markdown",
   "metadata": {}
  },
  {
   "source": [
    "## Neural Networks\n",
    "\n",
    "Deep Learning is based on artificial neural networks which have been around in some form since the late 1950s. The networks are built from individual parts approximating neurons, typically called units or simply \"neurons.\" Each unit has some number of weighted inputs. These weighted inputs are summed together (a linear combination) then passed through an activation function to get the unit's output.\n",
    "\n",
    "<center><img src=\"assets/simple_neuron.png\" width=400px>\n",
    "\n",
    "Mathematically, the above looks like: \n",
    "\n",
    "$$\n",
    "y = f(h)\n",
    "$$\n",
    "\n",
    "where,\n",
    "\n",
    "$$\n",
    "h = w_1 x_1 + w_2 x_2 + b = \\sum_{i=1}^2 w_i x_i + b\n",
    "$$\n",
    "\n",
    "If we let $b = w_0x_0$, then we can express $h$ as the dot/inner product of two vectors:\n",
    "\n",
    "$$\n",
    "h = \\begin{bmatrix}\n",
    "x_0 \\, x_1 \\, x_2\n",
    "\\end{bmatrix}\n",
    "\\cdot \n",
    "\\begin{bmatrix}\n",
    "           w_0 \\\\\n",
    "           w_1 \\\\\n",
    "           w_2\n",
    "\\end{bmatrix} = w_0 x_0 + w_1 x_1 + w_2 x_2\n",
    "$$"
   ],
   "cell_type": "markdown",
   "metadata": {}
  },
  {
   "source": [
    "## Tensors\n",
    "\n",
    "It turns out neural network computations are just a bunch of linear algebra operations on *tensors*, a generalization of matrices. A vector is a 1-dimensional tensor, a matrix is a 2-dimensional tensor, an array with three indices is a 3-dimensional tensor (RGB color images for example). The fundamental data structure for neural networks are tensors and TensorFlow is built around tensors.\n",
    "\n",
    "<center><img src=\"assets/tensor_examples.svg\" width=600px></center>\n",
    "\n",
    "With the basics covered, it's time to explore how we can use TensorFlow to build a simple neural network."
   ],
   "cell_type": "markdown",
   "metadata": {}
  },
  {
   "source": [
    "## Import Resources"
   ],
   "cell_type": "markdown",
   "metadata": {}
  },
  {
   "cell_type": "code",
   "execution_count": 1,
   "metadata": {},
   "outputs": [],
   "source": [
    "import warnings\n",
    "warnings.filterwarnings('ignore')\n",
    "\n",
    "import numpy as np\n",
    "import tensorflow as tf"
   ]
  },
  {
   "cell_type": "code",
   "execution_count": 2,
   "metadata": {},
   "outputs": [],
   "source": [
    "import logging\n",
    "logger = tf.get_logger()\n",
    "logger.setLevel(logging.ERROR)"
   ]
  },
  {
   "cell_type": "code",
   "execution_count": 3,
   "metadata": {},
   "outputs": [
    {
     "output_type": "stream",
     "name": "stdout",
     "text": [
      "Using:\n\t• Tensorflow version: 2.3.1\n"
     ]
    }
   ],
   "source": [
    "print('Using:')\n",
    "print('\\t\\u2022 Tensorflow version:', tf.__version__)"
   ]
  },
  {
   "source": [
    "## Single Layer Neural Network"
   ],
   "cell_type": "markdown",
   "metadata": {}
  },
  {
   "source": [
    "# set the random seed so things are reproducible\n",
    "tf.random.set_seed(7)\n",
    "\n",
    "# create 5 random input features\n",
    "features = tf.random.normal((1, 5))\n",
    "\n",
    "# create random weights for our neural network\n",
    "weights = tf.random.normal((1, 5))\n",
    "\n",
    "# create a random bias term for our neural network\n",
    "bias = tf.random.normal((1, 1))\n",
    "\n",
    "print('Features:\\n', features)\n",
    "print('\\nWeights:\\n', weights)\n",
    "print('\\nBias:\\n', bias)"
   ],
   "cell_type": "code",
   "metadata": {},
   "execution_count": 4,
   "outputs": [
    {
     "output_type": "stream",
     "name": "stdout",
     "text": [
      "Features:\n tf.Tensor([[ 0.5983449   0.06276207  0.14631742  0.48481876 -0.23572342]], shape=(1, 5), dtype=float32)\n\nWeights:\n tf.Tensor([[-2.2733312  -1.6592104  -0.2633568  -0.80923414  1.0294315 ]], shape=(1, 5), dtype=float32)\n\nBias:\n tf.Tensor([[1.5749502]], shape=(1, 1), dtype=float32)\n"
     ]
    }
   ]
  },
  {
   "source": [
    "Above we generated data we can use to get the output of our simple network. This is all just random for now, going forward we'll start using real data. \n",
    "\n",
    "As we can see above, in TensorFlow, tensors are `tf.Tensor` objects that have a data type and a shape. Now let's go through each relevant line:\n",
    "\n",
    "* `features = tf.random.normal((1, 5))` creates a tensor with shape `(1, 5)`, one row and five columns, that contains random values from a normal distribution with a mean of zero and standard deviation of one.\n",
    "\n",
    "* `weights = tf.random.normal((1, 5))` creates a tensor with shape `(1, 5)`, one row and five columns, again containing random values from a normal distribution with a mean of zero and standard deviation of one.\n",
    "\n",
    "* `bias = tf.random.normal((1, 1))` creates a single random value from a normal distribution.\n",
    "\n",
    "TensorFlow's tensors can be added, multiplied, subtracted, etc., just like NumPy arrays. In general, you'll use TensorFlow's tensors pretty much the same way you'd use NumPy arrays. They come with some nice benefits though such as GPU acceleration which we'll get to later. For now, we will use the generated random data to calculate the output of this simple single layer network.\n",
    "\n",
    "Now we create the activation function we are going to use:"
   ],
   "cell_type": "markdown",
   "metadata": {}
  },
  {
   "cell_type": "code",
   "execution_count": 5,
   "metadata": {},
   "outputs": [],
   "source": [
    "def sigmoid_activation(x):\n",
    "    return 1 / (1 + tf.exp(-x))"
   ]
  },
  {
   "source": [
    "Now, let's calculate the output of our single layer neural network.\n",
    "\n",
    "> **Exercise**: Calculate the output of the network with input features `features`, weights `weights`, and bias `bias`. Similar to NumPy, TensorFlow has a `tf.multiply(a, b)` that multiplies tensors `a` and `b` element-wise. It also has `tf.reduce_sum(x)` that computes the sum of the elements of tensor `x`. Use the `sigmoid_activation` function defined above as the activation function."
   ],
   "cell_type": "markdown",
   "metadata": {}
  },
  {
   "cell_type": "code",
   "execution_count": 6,
   "metadata": {},
   "outputs": [
    {
     "output_type": "stream",
     "name": "stdout",
     "text": [
      "label:\n tf.Tensor([[0.3628656]], shape=(1, 1), dtype=float32)\n"
     ]
    }
   ],
   "source": [
    "y = sigmoid_activation(tf.reduce_sum(tf.multiply(features, weights)) + bias)\n",
    "\n",
    "print('label:\\n', y)"
   ]
  },
  {
   "source": [
    "You can do the multiplication and sum in the same operation using a matrix multiplication. In general, you'll want to use matrix multiplications since they are more efficient and accelerated using modern libraries and high-performance computing on GPUs.\n",
    "\n",
    "Here, we want to do a matrix multiplication of the features and the weights. For this we can use `tf.matmul()`. If we try to do it with `features` and `weights` as they are, we'll get an error\n",
    "\n",
    "```python\n",
    ">> tf.matmul(features, weights)\n",
    "\n",
    "---------------------------------------------------------------------------\n",
    "InvalidArgumentError                      Traceback (most recent call last)\n",
    "<ipython-input-7-66a4fe44f20b> in <module>()\n",
    "      1 \n",
    "----> 2 y = sigmoid_activation(tf.matmul(features, weights) + bias)\n",
    "\n",
    "2 frames\n",
    "/usr/local/lib/python3.6/dist-packages/six.py in raise_from(value, from_value)\n",
    "\n",
    "InvalidArgumentError: Matrix size-incompatible: In[0]: [1,5], In[1]: [1,5] [Op:MatMul] name: MatMul/\n",
    "```\n",
    "\n",
    "As you're building neural networks in any framework, you'll see this often. Really often. What's happening here is our tensors aren't the correct shapes to perform a matrix multiplication. Remember that for matrix multiplications, the number of columns in the first tensor must equal to the number of rows in the second tensor. Both `features` and `weights` have the same shape, `(1, 5)`. This means we need to change the shape of `weights` to get the matrix multiplication to work.\n",
    "\n",
    "**Note:** To see the shape of a tensor called `tensor`, use `tensor.shape`. If you're building neural networks, you'll be using this method often."
   ],
   "cell_type": "markdown",
   "metadata": {}
  },
  {
   "cell_type": "code",
   "execution_count": 7,
   "metadata": {},
   "outputs": [
    {
     "output_type": "stream",
     "name": "stdout",
     "text": [
      "Features Shape: (1, 5)\nWeights Shape: (1, 5)\nBias Shape: (1, 1)\n"
     ]
    }
   ],
   "source": [
    "print('Features Shape:', features.shape)\n",
    "print('Weights Shape:', weights.shape)\n",
    "print('Bias Shape:', bias.shape)"
   ]
  },
  {
   "cell_type": "code",
   "execution_count": 8,
   "metadata": {},
   "outputs": [
    {
     "output_type": "stream",
     "name": "stdout",
     "text": [
      "label:\n tf.Tensor([[0.3628656]], shape=(1, 1), dtype=float32)\n"
     ]
    }
   ],
   "source": [
    "y = sigmoid_activation(tf.matmul(features, weights, transpose_b=True) + bias)\n",
    "\n",
    "print('label:\\n', y)"
   ]
  },
  {
   "cell_type": "code",
   "execution_count": 9,
   "metadata": {},
   "outputs": [
    {
     "output_type": "stream",
     "name": "stdout",
     "text": [
      "Weights shape:  (1, 5)\n"
     ]
    }
   ],
   "source": [
    "# check if shape of weights permanently changed?\n",
    "print('Weights shape: ', weights.shape)"
   ]
  },
  {
   "source": [
    "## Multi-Layer Neural Network\n",
    "\n",
    "That's how you can calculate the output for a single neuron. The real power of this algorithm happens when you start stacking these individual units into layers and stacks of layers, into a network of neurons. The output of one layer of neurons becomes the input for the next layer. With multiple input units and output units, we now need to express the weights as a matrix.\n",
    "\n",
    "<center><img src='assets/multilayer_diagram_weights.png' width=450px></center>\n",
    "\n",
    "In the diagram above, the first layer shown on the bottom are the inputs, understandably called the **input layer**. The middle layer is called the **hidden layer**, and the final layer (on the top) is the **output layer**. We can express this network mathematically with matrices and use matrix multiplication to get linear combinations for each unit in one operation. For example, the hidden layer (comprised of units $h_1$ and $h_2$) can be calculated as follows:\n",
    "\n",
    "$$\n",
    "\\vec{h} = [h_1 \\, h_2] = \n",
    "\\begin{bmatrix}\n",
    "x_1 \\, x_2 \\cdots \\, x_n\n",
    "\\end{bmatrix}\n",
    "\\cdot \n",
    "\\begin{bmatrix}\n",
    "           w_{11} & w_{12} \\\\\n",
    "           w_{21} &w_{22} \\\\\n",
    "           \\vdots &\\vdots \\\\\n",
    "           w_{n1} &w_{n2}\n",
    "\\end{bmatrix}\n",
    "$$\n",
    "\n",
    "The output for this small network is found by treating the hidden layer as inputs for the output unit. The network output is expressed simply as:\n",
    "\n",
    "$$\n",
    "y =  f_2 \\! \\left(\\, f_1 \\! \\left(\\vec{x} \\, \\mathbf{W_1}\\right) \\mathbf{W_2} \\right)\n",
    "$$"
   ],
   "cell_type": "markdown",
   "metadata": {}
  },
  {
   "cell_type": "code",
   "execution_count": 10,
   "metadata": {},
   "outputs": [],
   "source": [
    "tf.random.set_seed(7)\n",
    "\n",
    "features = tf.random.normal((1, 3))\n",
    "\n",
    "n_input = features.shape[1]\n",
    "n_hidden = 2\n",
    "n_output = 1\n",
    "\n",
    "# define the size of each layer in our network\n",
    "w1 = tf.random.normal((n_input, n_hidden))\n",
    "w2 = tf.random.normal((n_hidden, n_output))\n",
    "\n",
    "B1 = tf.random.normal((1, n_hidden))\n",
    "B2 = tf.random.normal((1, n_output))"
   ]
  },
  {
   "cell_type": "code",
   "execution_count": 11,
   "metadata": {},
   "outputs": [
    {
     "output_type": "stream",
     "name": "stdout",
     "text": [
      "tf.Tensor([[0.10678572]], shape=(1, 1), dtype=float32)\n"
     ]
    }
   ],
   "source": [
    "y_hidden = sigmoid_activation(tf.matmul(features, w1) + B1)\n",
    "y_output = sigmoid_activation(tf.matmul(y_hidden, w2) + B2)\n",
    "\n",
    "print(y_output)"
   ]
  },
  {
   "source": [
    "The number of hidden units is a parameter of the network, often called a **hyperparameter** to differentiate it from the weights and biases parameters. As you'll see later when we discuss training a neural network, the more hidden layers and units a network has, the better able it will be able to learn from data and make accurate predictions."
   ],
   "cell_type": "markdown",
   "metadata": {}
  },
  {
   "source": [
    "## NumPy to TensorFlow and Back\n",
    "\n",
    "This is a special bonus section! TensorFlow has a great feature for converting between NumPy's `ndarrays` and its `tf.Tensors`. To create a tensor from a NumPy ndarray, use `tf.convert_to_tensor()`. To convert a tensor to a NumPy array, use the `.numpy()` method. Below are some examples:"
   ],
   "cell_type": "markdown",
   "metadata": {}
  },
  {
   "cell_type": "code",
   "execution_count": 12,
   "metadata": {},
   "outputs": [
    {
     "output_type": "stream",
     "name": "stdout",
     "text": [
      "<class 'numpy.ndarray'>\n[[0.2355213  0.12891694 0.80264766]\n [0.77796226 0.93219061 0.29635387]\n [0.21063632 0.58884231 0.71413759]\n [0.93826778 0.39883223 0.24134922]]\n"
     ]
    }
   ],
   "source": [
    "tf.random.set_seed(7)\n",
    "\n",
    "a = np.random.rand(4, 3)\n",
    "\n",
    "print(type(a))\n",
    "print(a)"
   ]
  },
  {
   "cell_type": "code",
   "execution_count": 15,
   "metadata": {},
   "outputs": [
    {
     "output_type": "stream",
     "name": "stdout",
     "text": [
      "tf.Tensor(\n[[0.2355213  0.12891694 0.80264766]\n [0.77796226 0.93219061 0.29635387]\n [0.21063632 0.58884231 0.71413759]\n [0.93826778 0.39883223 0.24134922]], shape=(4, 3), dtype=float64)\n"
     ]
    }
   ],
   "source": [
    "b = tf.convert_to_tensor(a)\n",
    "\n",
    "print(b)"
   ]
  },
  {
   "cell_type": "code",
   "execution_count": 16,
   "metadata": {},
   "outputs": [
    {
     "output_type": "stream",
     "name": "stdout",
     "text": [
      "<class 'numpy.ndarray'>\n[[0.2355213  0.12891694 0.80264766]\n [0.77796226 0.93219061 0.29635387]\n [0.21063632 0.58884231 0.71413759]\n [0.93826778 0.39883223 0.24134922]]\n"
     ]
    }
   ],
   "source": [
    "c = b.numpy()\n",
    "\n",
    "print(type(c))\n",
    "print(c)"
   ]
  },
  {
   "cell_type": "code",
   "execution_count": 17,
   "metadata": {},
   "outputs": [
    {
     "output_type": "stream",
     "name": "stdout",
     "text": [
      "tf.Tensor(\n[[ 9.42085212  5.15667768 32.10590648]\n [31.11849035 37.28762442 11.85415466]\n [ 8.42545291 23.55369232 28.56550344]\n [37.53071135 15.95328915  9.65396873]], shape=(4, 3), dtype=float64)\n"
     ]
    }
   ],
   "source": [
    "# multiply TensorFlow tensor by 40\n",
    "b = b * 40\n",
    "\n",
    "print(b)"
   ]
  },
  {
   "cell_type": "code",
   "execution_count": 18,
   "metadata": {},
   "outputs": [
    {
     "output_type": "execute_result",
     "data": {
      "text/plain": [
       "array([[0.2355213 , 0.12891694, 0.80264766],\n",
       "       [0.77796226, 0.93219061, 0.29635387],\n",
       "       [0.21063632, 0.58884231, 0.71413759],\n",
       "       [0.93826778, 0.39883223, 0.24134922]])"
      ]
     },
     "metadata": {},
     "execution_count": 18
    }
   ],
   "source": [
    "# numpy array stays the same\n",
    "a"
   ]
  },
  {
   "cell_type": "code",
   "execution_count": 19,
   "metadata": {},
   "outputs": [
    {
     "output_type": "execute_result",
     "data": {
      "text/plain": [
       "array([[0.2355213 , 0.12891694, 0.80264766],\n",
       "       [0.77796226, 0.93219061, 0.29635387],\n",
       "       [0.21063632, 0.58884231, 0.71413759],\n",
       "       [0.93826778, 0.39883223, 0.24134922]])"
      ]
     },
     "metadata": {},
     "execution_count": 19
    }
   ],
   "source": [
    "# numpy array stays the same\n",
    "c"
   ]
  }
 ]
}